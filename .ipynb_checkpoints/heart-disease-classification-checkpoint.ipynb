{
 "cells": [
  {
   "cell_type": "markdown",
   "id": "47daca1f",
   "metadata": {},
   "source": [
    "# Pridicting heart disease using machine learning \n",
    "\n",
    "This notebook looks into solving real life problem by predicting someone has heart disease based on their medical conditions by using machine learning models.\n",
    "\n"
   ]
  }
 ],
 "metadata": {
  "kernelspec": {
   "display_name": "Python 3 (ipykernel)",
   "language": "python",
   "name": "python3"
  },
  "language_info": {
   "codemirror_mode": {
    "name": "ipython",
    "version": 3
   },
   "file_extension": ".py",
   "mimetype": "text/x-python",
   "name": "python",
   "nbconvert_exporter": "python",
   "pygments_lexer": "ipython3",
   "version": "3.10.12"
  }
 },
 "nbformat": 4,
 "nbformat_minor": 5
}
